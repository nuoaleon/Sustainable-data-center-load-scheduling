{
 "cells": [
  {
   "cell_type": "markdown",
   "metadata": {},
   "source": [
    "## Required packages"
   ]
  },
  {
   "cell_type": "code",
   "execution_count": 19,
   "metadata": {},
   "outputs": [],
   "source": [
    "import numpy as np\n",
    "import pandas as pd\n",
    "import matplotlib.pyplot as plt\n",
    "import seaborn as sns\n",
    "\n",
    "from sklearn.gaussian_process import GaussianProcessRegressor\n",
    "from sklearn.gaussian_process.kernels import RBF, WhiteKernel, ConstantKernel\n",
    "\n",
    "from scipy.optimize import linprog"
   ]
  },
  {
   "cell_type": "markdown",
   "metadata": {},
   "source": [
    "## Data center user-defined inputs"
   ]
  },
  {
   "cell_type": "code",
   "execution_count": 2,
   "metadata": {},
   "outputs": [],
   "source": [
    "### Table 1 in the CISBAT Paper\n",
    "PPP = 0.4 # the fraction of flexible workload (expected value)\n",
    "KKK = 9   # contract time limits (expected value)\n",
    "III = 0.6 # safety factor (expected value)"
   ]
  },
  {
   "cell_type": "markdown",
   "metadata": {},
   "source": [
    "### 1. Data center power vs workload level"
   ]
  },
  {
   "cell_type": "code",
   "execution_count": 3,
   "metadata": {
    "scrolled": false
   },
   "outputs": [],
   "source": [
    "SPEC = pd.read_excel(\"Data/data.xlsx\",sheet_name=\"data\") # Performance to Power Ratio"
   ]
  },
  {
   "cell_type": "code",
   "execution_count": 4,
   "metadata": {
    "scrolled": true
   },
   "outputs": [
    {
     "data": {
      "image/png": "[encoded data removed]",
      "text/plain": [
       "<Figure size 432x288 with 1 Axes>"
      ]
     },
     "metadata": {
      "needs_background": "light"
     },
     "output_type": "display_data"
    }
   ],
   "source": [
    "SPEC_X=np.array(SPEC.Load.values).reshape(10,1)\n",
    "SPEC_Y=np.array(SPEC[\"Performance to Power Ratio\"].values).reshape(10,1)\n",
    "\n",
    "# fit a gp for data center 'Performance to Power Ratio'\n",
    "kernel = ConstantKernel(1.0, (1e-4, 1e3)) * RBF(length_scale=100.0, length_scale_bounds=(1e-2, 1e3)) + WhiteKernel(noise_level=1, noise_level_bounds=(1e-10, 1e+1))\n",
    "gp = GaussianProcessRegressor(kernel=kernel,n_restarts_optimizer=20).fit(SPEC_X,SPEC_Y)\n",
    "# visualize\n",
    "SPEC_Y_pred = gp.predict(SPEC_X, return_std=False)\n",
    "\n",
    "plt.scatter(SPEC_X,SPEC_Y,color=\"red\")\n",
    "plt.plot(SPEC_X,SPEC_Y_pred,color=\"blue\",linewidth=1.5)\n",
    "plt.xlim([0,1.1])\n",
    "plt.xlabel('Server workload level')\n",
    "plt.ylabel('Weighted average performance to power ratio \\nof the servers in the data center (ssj_ops/w)')\n",
    "plt.show()"
   ]
  },
  {
   "cell_type": "markdown",
   "metadata": {},
   "source": [
    "### 2. Data center capacity, real-time loads"
   ]
  },
  {
   "cell_type": "code",
   "execution_count": 5,
   "metadata": {},
   "outputs": [],
   "source": [
    "capacity_Max = 100 # 100MW, https://energyinnovation.org/2020/03/17/how-much-energy-do-data-centers-really-use/\n",
    "throughput_Max = capacity_Max*10**6/SPEC.Power[0]*SPEC.ssj_ops[0] # ssj_ops/s\n",
    "allowable_ul = III # allowable workload level\n",
    "throughput_allow_hour = throughput_Max*3600*allowable_ul # ssj_ops/h: allowable workloads per hour (upper load constraint)"
   ]
  },
  {
   "cell_type": "code",
   "execution_count": 6,
   "metadata": {},
   "outputs": [],
   "source": [
    "# user-defined load-curve acorss time\n",
    "DC_profile = pd.read_excel(\"Data/data.xlsx\",sheet_name=\"load shape\")\n",
    "DC_profile['Load'] = throughput_Max*DC_profile.Load_level.values\n",
    "\n",
    "# flexiable loads & unflexiable loads\n",
    "flex_p = PPP  # mean flexiable loads percentage overtime\n",
    "np.random.seed(20)\n",
    "flex_p = np.random.normal(flex_p, 0.2, 24)\n",
    "flex_p = np.array([0 if flex_p[i] <=0 else flex_p[i] for i in range(len(flex_p))])\n",
    "flex_p = np.array([1 if flex_p[i] >=1 else flex_p[i] for i in range(len(flex_p))])\n",
    "\n",
    "DC_profile['Flexload'] = flex_p * DC_profile.Load\n",
    "DC_profile['Nonflexload'] = (1-flex_p) * DC_profile.Load"
   ]
  },
  {
   "cell_type": "markdown",
   "metadata": {},
   "source": [
    "### 3. Data center PUE, WUE"
   ]
  },
  {
   "cell_type": "code",
   "execution_count": 7,
   "metadata": {},
   "outputs": [],
   "source": [
    "UE = pd.read_excel(\"Data/PUE_WUE.xlsx\")\n",
    "UE = UE[(UE.Month==6)&((UE.Day==2) | (UE.Day==3))]\n",
    "PUE = UE.PUE.values\n",
    "WUE = UE.WUE.values"
   ]
  },
  {
   "cell_type": "markdown",
   "metadata": {},
   "source": [
    "### 4. Electricity emissions vs water footprint"
   ]
  },
  {
   "cell_type": "code",
   "execution_count": 8,
   "metadata": {},
   "outputs": [],
   "source": [
    "# mTCO2/h\n",
    "co2_1 = pd.read_csv(\"Data/CAISO-co2-20200602.csv\",index_col=0)\n",
    "co2_1 = co2_1.values[0]\n",
    "co2_1 = np.array([np.mean(co2_1[12*i:12*(i+1)]) for i in range(24)])\n",
    "\n",
    "co2_2 = pd.read_csv(\"Data/CAISO-co2-20200603.csv\",index_col=0)\n",
    "co2_2 = co2_2.values[0]\n",
    "co2_2 = np.array([np.mean(co2_2[12*i:12*(i+1)]) for i in range(24)])"
   ]
  },
  {
   "cell_type": "code",
   "execution_count": 9,
   "metadata": {},
   "outputs": [],
   "source": [
    "# MW\n",
    "MW_1 = pd.read_csv(\"Data/CAISO-supply-20200602.csv\",index_col=0)\n",
    "MW_1 = MW_1.sum(axis=0).values\n",
    "MW_1 = np.array([np.mean(MW_1[12*i:12*(i+1)]) for i in range(24)])\n",
    "\n",
    "MW_2 = pd.read_csv(\"Data/CAISO-supply-20200603.csv\",index_col=0)\n",
    "MW_2 = MW_2.sum(axis=0).values\n",
    "MW_2 = np.array([np.mean(MW_2[12*i:12*(i+1)]) for i in range(24)])"
   ]
  },
  {
   "cell_type": "code",
   "execution_count": 10,
   "metadata": {},
   "outputs": [],
   "source": [
    "# mTCO2e/MWh = kgC02e/kWh\n",
    "co2_intensity_1 = co2_1/MW_1\n",
    "co2_intensity_2 = co2_2/MW_2\n",
    "co2_intensity = np.concatenate((co2_intensity_1,co2_intensity_2))"
   ]
  },
  {
   "cell_type": "code",
   "execution_count": 11,
   "metadata": {},
   "outputs": [],
   "source": [
    "electricity = pd.read_excel(\"Data/data.xlsx\",sheet_name=\"WF\",header=None,index_col=0).values\n",
    "electricity = electricity/np.sum(electricity,axis=0)"
   ]
  },
  {
   "cell_type": "code",
   "execution_count": 12,
   "metadata": {},
   "outputs": [],
   "source": [
    "wf = np.array([0.091,0.008,8.750,2.325,1.080,1.575,1.825,7.700]).reshape(8,1)\n",
    "electricity_wf = np.sum(electricity*wf,axis=0)\n",
    "electricity_wf = np.array([np.mean(electricity_wf[12*i:12*(i+1)]) for i in range(48)])"
   ]
  },
  {
   "cell_type": "markdown",
   "metadata": {},
   "source": [
    "### 5. Electricity & water price"
   ]
  },
  {
   "cell_type": "code",
   "execution_count": 13,
   "metadata": {},
   "outputs": [],
   "source": [
    "# dollars per MWh\n",
    "electric_rate = pd.read_excel(\"Data/data.xlsx\",sheet_name=\"electric rate\",index_col=0).values.T[0]"
   ]
  },
  {
   "cell_type": "code",
   "execution_count": 14,
   "metadata": {},
   "outputs": [],
   "source": [
    "# water price\n",
    "water_rate = np.array([3.54,3.92,4.74,6.15,6.24]) # dollors per kGal\n",
    "water_rate = np.mean(water_rate)/3785 #dollors per litter"
   ]
  },
  {
   "cell_type": "markdown",
   "metadata": {},
   "source": [
    "### 6. Other constraints"
   ]
  },
  {
   "cell_type": "code",
   "execution_count": 15,
   "metadata": {},
   "outputs": [],
   "source": [
    "# maximum allowable time to execute the flexiable loads (changing with constomer requirement)\n",
    "np.random.seed(50)\n",
    "max_hour = np.random.normal(KKK, 3, 48).astype(np.int)"
   ]
  },
  {
   "cell_type": "code",
   "execution_count": 16,
   "metadata": {},
   "outputs": [],
   "source": [
    "# \n",
    "Load_f = np.tile(DC_profile.Flexload.values*3600,2)\n",
    "Load_nf = np.tile(DC_profile.Nonflexload.values*3600,2)\n",
    "elec_rate = np.tile(electric_rate,2)/1000 #$/kWh"
   ]
  },
  {
   "cell_type": "markdown",
   "metadata": {},
   "source": [
    "# Optimization"
   ]
  },
  {
   "cell_type": "markdown",
   "metadata": {},
   "source": [
    "# Multi-objective optimization"
   ]
  },
  {
   "cell_type": "code",
   "execution_count": 17,
   "metadata": {},
   "outputs": [
    {
     "name": "stdout",
     "output_type": "stream",
     "text": [
      "0\n",
      "1\n",
      "2\n",
      "3\n",
      "4\n",
      "5\n",
      "6\n",
      "7\n",
      "8\n",
      "9\n",
      "10\n",
      "11\n",
      "12\n",
      "13\n",
      "14\n",
      "15\n",
      "16\n",
      "17\n",
      "18\n",
      "19\n",
      "20\n",
      "21\n",
      "22\n",
      "23\n"
     ]
    }
   ],
   "source": [
    "load_shifed = np.zeros((48,48))\n",
    "\n",
    "for k in range(24):\n",
    "    print(k)\n",
    "    n = max_hour[k] + 1\n",
    "    \n",
    "    pred_ssjops = gp.predict([[0.25]], return_std=False)[0][0] # expectation of the server workload level at time t: 0.25\n",
    "    \n",
    "    c1 = np.array((PUE[0+k:n+k] * elec_rate[0+k:n+k] + WUE[0+k:n+k] * water_rate)/pred_ssjops) # electricity& water rate\n",
    "    c2 = np.array(PUE[0+k:n+k] * co2_intensity[0+k:n+k]/pred_ssjops) # co2\n",
    "    c3 = np.array((electricity_wf[0+k:n+k] * PUE[0+k:n+k] + WUE[0+k:n+k])/pred_ssjops) # wf\n",
    "    \n",
    "    A_eq = np.array([[1]*n])\n",
    "    b_eq = np.array([Load_f[k]])\n",
    "    \n",
    "    # upper bound\n",
    "    ub = throughput_allow_hour - np.sum(load_shifed,axis=0)[0+k:n+k]\n",
    "    bounds = [(0,ub[i]) for i in range(n)]\n",
    "    \n",
    "    # multi-objective\n",
    "    pareto_x = np.array([]).reshape(0,n)\n",
    "    pareto_y = np.array([]).reshape(0,3)\n",
    "    np.random.seed(20)\n",
    "    v = np.random.dirichlet(np.ones(3),size=200)\n",
    "    for w in v:\n",
    "        c = w[0]*c1 + w[1]*c2 + w[2]*c3\n",
    "        x = linprog(c, A_eq=A_eq, b_eq=b_eq, bounds=bounds).x.reshape(1,n)\n",
    "        y = np.array([np.dot(x,c1)/1000/3600,np.dot(x,c2)/1000/3600,np.dot(x,c3)/1000/3600]).reshape(1,3)\n",
    "        pareto_x = np.vstack((pareto_x,x))\n",
    "        pareto_y = np.vstack((pareto_y,y))\n",
    "        \n",
    "    load_shifed[k,0+k:n+k] = pareto_x[np.argmin(pareto_y[:,1])] # change index here:\n",
    "    # pareto_y[:,0]--minimal OPEX in the pareto set ; \n",
    "    # pareto_y[:,1]--minimal CEs in the pareto set; \n",
    "    # pareto_y[:,2]--minimal WF in the pareto set. "
   ]
  },
  {
   "cell_type": "code",
   "execution_count": 18,
   "metadata": {
    "scrolled": true
   },
   "outputs": [
    {
     "data": {
      "image/png": "[encoded data removed]",
      "text/plain": [
       "<Figure size 576x360 with 2 Axes>"
      ]
     },
     "metadata": {
      "needs_background": "light"
     },
     "output_type": "display_data"
    }
   ],
   "source": [
    "fig, ax1 = plt.subplots(figsize=(8,5))\n",
    "ax1.bar(np.arange(24),Load_nf[0:24])\n",
    "ax1.bar(np.arange(24),np.sum(load_shifed,axis=0)[0:24],bottom=Load_nf[0:24],color=\"blue\",label='Nonflexible workloads')\n",
    "\n",
    "ax1.bar(np.arange(24),np.sum(load_shifed,axis=0)[0:24],bottom=Load_nf[0:24],color=\"green\",label='Shifted workloads')\n",
    "\n",
    "ax1.bar(np.arange(48)[24:30],np.sum(load_shifed,axis=0)[24:30],color=\"green\")\n",
    "\n",
    "ax1.set_ylabel(\"Workloads (ssj_ops/h)\")\n",
    "\n",
    "ax1.axhline(y=throughput_Max*3600,linestyle=\"--\",linewidth=2,color=\"grey\")\n",
    "\n",
    "ax2 = ax1.twinx()\n",
    "#ax2.plot(np.arange(48)[0:30],elec_rate[0:30],color=\"red\",label='Electricity rate')\n",
    "#ax2.set_ylabel(\"Electricity rate\")\n",
    "\n",
    "ax2.plot(np.arange(48)[0:30],co2_intensity[0:30],color='red',label='Carbon intensity')\n",
    "ax2.set_ylabel(\"Carbon intensity (kg$CO_2e$/kWh)\")\n",
    "\n",
    "#ax2.plot(np.arange(48)[0:30],electricity_wf[0:30],color=\"red\",label='water footprint')\n",
    "#ax2.set_ylabel(\"water footprint\")\n",
    "\n",
    "fig.legend(loc=\"upper center\",ncol=3)\n",
    "plt.show()"
   ]
  },
  {
   "cell_type": "code",
   "execution_count": null,
   "metadata": {},
   "outputs": [],
   "source": []
  }
 ],
 "metadata": {
  "kernelspec": {
   "display_name": "Python 3",
   "language": "python",
   "name": "python3"
  },
  "language_info": {
   "codemirror_mode": {
    "name": "ipython",
    "version": 3
   },
   "file_extension": ".py",
   "mimetype": "text/x-python",
   "name": "python",
   "nbconvert_exporter": "python",
   "pygments_lexer": "ipython3",
   "version": "3.7.4"
  }
 },
 "nbformat": 4,
 "nbformat_minor": 2
}
